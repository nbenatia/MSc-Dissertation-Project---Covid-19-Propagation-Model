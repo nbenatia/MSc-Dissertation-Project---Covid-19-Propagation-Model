{
 "cells": [
  {
   "cell_type": "markdown",
   "metadata": {
    "colab_type": "text",
    "id": "LeamvpPVXuS_"
   },
   "source": [
    "# Random Forest Regression"
   ]
  },
  {
   "cell_type": "markdown",
   "metadata": {
    "colab_type": "text",
    "id": "O2wvZ7SKXzVC"
   },
   "source": [
    "## Importing the libraries"
   ]
  },
  {
   "cell_type": "code",
   "execution_count": 1,
   "metadata": {
    "colab": {},
    "colab_type": "code",
    "id": "PVmESEFZX4Ig"
   },
   "outputs": [],
   "source": [
    "import numpy as np\n",
    "import matplotlib.pyplot as plt\n",
    "import pandas as pd\n",
    "import os as os\n",
    "\n",
    "# Importing The Dataset\n",
    "os.chdir('C:/Users/nassi/OneDrive/Data Science Masters/2018 Course/Disso/Covid 19 Datasets/Python Scrips/Datasets for analysis')\n",
    "data_10 = pd.read_csv('Dataset 10 day.csv')\n",
    "# Clearning the Dataset of Null Values\n",
    "data_10.dropna(inplace = True)\n",
    "# Encoding the Region Column\n",
    "X = data_10.iloc[:, 0:-1].values\n",
    "y = data_10.iloc[:, -1].values\n",
    "from sklearn.compose import ColumnTransformer\n",
    "from sklearn.preprocessing import OneHotEncoder\n",
    "ct = ColumnTransformer(transformers=[('encoder', OneHotEncoder(), [0])], remainder='passthrough')\n",
    "X = (ct.fit_transform(X))\n",
    "# Creating the Training & Testing Splits\n",
    "from sklearn.model_selection import train_test_split\n",
    "X_train, X_test, y_train, y_test = train_test_split(X, y, test_size = 0.2)\n",
    "# Creating & Training the Random Forest\n",
    "from sklearn.ensemble import RandomForestRegressor\n",
    "regressor = RandomForestRegressor(n_estimators = 500, random_state = 0)\n",
    "regressor.fit(X_train, y_train)\n",
    "# Predicting & Viewing New Results\n",
    "y_pred = regressor.predict(X_test)\n",
    "np.set_printoptions(precision=2)\n",
    "Results_data = np.concatenate((y_pred.reshape(len(y_pred),1), y_test.reshape(len(y_test),1)),1)\n",
    "CoL = (\"y_pred\",\"y_test\")\n",
    "pd.DataFrame(data = Results_data, columns = CoL)\n",
    "# Computing R Squared Values\n",
    "from sklearn.metrics import r2_score\n",
    "r2 = r2_score(y_true = y_test, y_pred = y_pred)\n",
    "Adj_r2 = 1-((1-r2)*(len(y_pred)-1)/(len(y_pred)-13-1))"
   ]
  }
 ],
 "metadata": {
  "colab": {
   "authorship_tag": "ABX9TyP3S2RySFq2hXXtEz6ZoWRz",
   "name": "random_forest_regression.ipynb",
   "provenance": [],
   "toc_visible": true
  },
  "kernelspec": {
   "display_name": "Python 3 (ipykernel)",
   "language": "python",
   "name": "python3"
  },
  "language_info": {
   "codemirror_mode": {
    "name": "ipython",
    "version": 3
   },
   "file_extension": ".py",
   "mimetype": "text/x-python",
   "name": "python",
   "nbconvert_exporter": "python",
   "pygments_lexer": "ipython3",
   "version": "3.8.12"
  }
 },
 "nbformat": 4,
 "nbformat_minor": 1
}
