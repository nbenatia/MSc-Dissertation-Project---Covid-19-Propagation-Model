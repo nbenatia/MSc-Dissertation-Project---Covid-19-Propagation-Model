{
 "cells": [
  {
   "cell_type": "code",
   "execution_count": 2,
   "metadata": {},
   "outputs": [],
   "source": [
    "                                    # Data Merging & Cleaning\n",
    "\n",
    "import numpy as np\n",
    "import pandas as pd\n",
    "import os as os\n",
    "import matplotlib.pyplot as plt\n",
    "# Read in Datasets\n",
    "cases = pd.read_csv(\"Country Level Cases Dataset.csv\")\n",
    "os.chdir(\"C:/Users/nassi/OneDrive/Data Science Masters/2018 Course/Disso/Covid 19 Datasets/Up to Date Datasets For Disso Usage/Android Mobility Reporting\")\n",
    "mobility = pd.read_csv(\"Android Global_Mobility_Report.csv\")\n",
    "# Merge Datasets\n",
    "merged_dataset = pd.merge(left = cases,right = mobility,how = \"inner\", on = [\"region\",\"date\"])\n",
    "# Output Null Values\n",
    "null_values = merged_dataset1.isna()\n",
    "null_values = null_values.sum()\n",
    "null_values = null_values / len(merged_dataset1)\n",
    "null_values = null_values * 100\n",
    "# Correlation Matrix\n",
    "correlation = merged_dataset.corr()"
   ]
  },
  {
   "cell_type": "code",
   "execution_count": null,
   "metadata": {},
   "outputs": [],
   "source": []
  }
 ],
 "metadata": {
  "kernelspec": {
   "display_name": "Python 3 (ipykernel)",
   "language": "python",
   "name": "python3"
  },
  "language_info": {
   "codemirror_mode": {
    "name": "ipython",
    "version": 3
   },
   "file_extension": ".py",
   "mimetype": "text/x-python",
   "name": "python",
   "nbconvert_exporter": "python",
   "pygments_lexer": "ipython3",
   "version": "3.8.12"
  }
 },
 "nbformat": 4,
 "nbformat_minor": 4
}
